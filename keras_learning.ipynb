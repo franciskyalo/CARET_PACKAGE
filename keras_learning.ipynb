{
  "nbformat": 4,
  "nbformat_minor": 0,
  "metadata": {
    "colab": {
      "provenance": [],
      "authorship_tag": "ABX9TyO0oJl9K/2FwjRW1SpxpDZj",
      "include_colab_link": true
    },
    "kernelspec": {
      "name": "python3",
      "display_name": "Python 3"
    },
    "language_info": {
      "name": "python"
    },
    "accelerator": "TPU"
  },
  "cells": [
    {
      "cell_type": "markdown",
      "metadata": {
        "id": "view-in-github",
        "colab_type": "text"
      },
      "source": [
        "<a href=\"https://colab.research.google.com/github/franciskyalo/CARET_PACKAGE/blob/main/keras_learning.ipynb\" target=\"_parent\"><img src=\"https://colab.research.google.com/assets/colab-badge.svg\" alt=\"Open In Colab\"/></a>"
      ]
    },
    {
      "cell_type": "code",
      "execution_count": 1,
      "metadata": {
        "id": "aFq7CvwcXpvA"
      },
      "outputs": [],
      "source": []
    },
    {
      "cell_type": "markdown",
      "source": [
        "# ACTIVATION FUNCTIONS\n",
        "\n",
        "Activation functions are important because they introduce non-linearity in neural networks enabling them to learn complex patterns that are not linear.\n",
        "\n",
        "\n",
        "* sigmoid function - 0 and 1\n",
        "* hyperbolic tangent - -1, 1\n",
        "* Rectified Linear Unit (ReLu) - Replace negative values with zero aleviating the problem of vanishing gradient descent suffered by sigmoid and Hyperbolic tangent activation functions\n",
        "* Leaky ReLu - Leaky ReLU is an extension of ReLU that allows a small, non-zero gradient when the input is negative, which helps address the dying ReLU problem where neurons can become inactive during training.\n",
        "* Parametric ReLU (PReLU): PReLU is a variant of Leaky ReLU where the slope of the negative part is learned during training instead of being fixed.\n",
        "\n",
        "* Exponential Linear Unit (ELU): ELU function is defined as\n",
        "tends to converge faster than ReLU and can produce negative outputs, which helps prevent dead neurons.\n",
        "* Scaled Exponential Linear Unit (SELU): SELU is a variant of ELU that is designed to self-normalize the activations of each layer, leading to better convergence properties and improved performance for deep neural networks.\n",
        "\n",
        "* Softmax: Softmax function is typically used in the output layer of a neural network for multi-class classification problems. It normalizes the output values into a probability distribution, where each output represents the probability of belonging to a particular class."
      ],
      "metadata": {
        "id": "dqOjxq4leikO"
      }
    },
    {
      "cell_type": "markdown",
      "source": [
        "#LOSS FUNCTIONS"
      ],
      "metadata": {
        "id": "i474xaSIlxPE"
      }
    },
    {
      "cell_type": "markdown",
      "source": [
        "Loss functions are a critical component of deep learning models, serving as a measure of how well the model's predictions match the actual target values. The choice of a loss function depends on the specific task being addressed (e.g., classification, regression, generative modeling) and the characteristics of the data. In this discussion, I'll cover several common loss functions used in deep learning and their applications.\n",
        "\n",
        "### Classification Loss Functions:\n",
        "\n",
        "1. **Binary Cross-Entropy Loss (Log Loss)**:\n",
        "   - This loss function is commonly used for binary classification tasks, where the target variable has two classes (e.g., 0 or 1).\n",
        "   - It measures the difference between the predicted probabilities and the true binary labels.\n",
        "   - The formula for binary cross-entropy loss is:\n",
        "     \\[ \\text{Binary Cross-Entropy Loss} = -\\frac{1}{N} \\sum_{i=1}^{N} (y_i \\log(\\hat{y}_i) + (1 - y_i) \\log(1 - \\hat{y}_i)) \\]\n",
        "     where \\( N \\) is the number of samples, \\( y_i \\) is the true label (0 or 1), and \\( \\hat{y}_i \\) is the predicted probability of class 1.\n",
        "\n",
        "2. **Categorical Cross-Entropy Loss**:\n",
        "   - Categorical cross-entropy loss is used for multi-class classification tasks, where the target variable has more than two classes.\n",
        "   - It compares the predicted class probabilities with the true one-hot encoded labels.\n",
        "   - The formula for categorical cross-entropy loss is:\n",
        "     \\[ \\text{Categorical Cross-Entropy Loss} = -\\frac{1}{N} \\sum_{i=1}^{N} \\sum_{j=1}^{C} y_{ij} \\log(\\hat{y}_{ij}) \\]\n",
        "     where \\( C \\) is the number of classes, \\( y_{ij} \\) is 1 if sample \\( i \\) belongs to class \\( j \\) and 0 otherwise, and \\( \\hat{y}_{ij} \\) is the predicted probability of sample \\( i \\) belonging to class \\( j \\).\n",
        "\n",
        "3. **Sparse Categorical Cross-Entropy Loss**:\n",
        "   - Similar to categorical cross-entropy loss but used when the target labels are integers instead of one-hot encoded vectors.\n",
        "   - It is more memory efficient than categorical cross-entropy when dealing with a large number of classes.\n",
        "\n",
        "### Regression Loss Functions:\n",
        "\n",
        "1. **Mean Squared Error (MSE) Loss**:\n",
        "   - MSE loss is widely used for regression tasks, where the target variable is continuous.\n",
        "   - It measures the average squared difference between the predicted values and the true target values.\n",
        "   - The formula for MSE loss is:\n",
        "     \\[ \\text{MSE Loss} = \\frac{1}{N} \\sum_{i=1}^{N} (y_i - \\hat{y}_i)^2 \\]\n",
        "     where \\( N \\) is the number of samples, \\( y_i \\) is the true target value, and \\( \\hat{y}_i \\) is the predicted value.\n",
        "\n",
        "2. **Mean Absolute Error (MAE) Loss**:\n",
        "   - MAE loss is another regression loss function that measures the average absolute difference between the predicted values and the true target values.\n",
        "   - It is less sensitive to outliers compared to MSE loss.\n",
        "   - The formula for MAE loss is:\n",
        "     \\[ \\text{MAE Loss} = \\frac{1}{N} \\sum_{i=1}^{N} |y_i - \\hat{y}_i| \\]\n",
        "\n",
        "### Other Loss Functions:\n",
        "\n",
        "1. **Huber Loss**:\n",
        "   - Huber loss combines the best properties of MSE and MAE loss functions.\n",
        "   - It is less sensitive to outliers like MAE but provides the gradient properties of MSE loss near the minimum.\n",
        "   - Huber loss switches between L2 and L1 loss depending on the error magnitude.\n",
        "   - It is particularly useful when dealing with noisy data or data with outliers.\n",
        "\n",
        "2. **Kullback-Leibler Divergence (KL Divergence)**:\n",
        "   - KL divergence measures the difference between two probability distributions.\n",
        "   - It is commonly used in variational autoencoders (VAEs) and other generative models as a regularization term.\n",
        "   - In classification tasks, it can be used as a regularization term to penalize differences between the predicted and target distributions.\n",
        "\n",
        "3. **Dice Loss**:\n",
        "   - Dice loss is commonly used in semantic segmentation tasks.\n",
        "   - It measures the overlap between the predicted segmentation masks and the ground truth masks.\n",
        "   - Dice loss encourages better localization of object boundaries and is robust to class imbalance.\n",
        "\n",
        "4. **Focal Loss**:\n",
        "   - Focal loss is used to address class imbalance in classification tasks.\n",
        "   - It down-weights the loss assigned to well-classified examples, focusing more on hard-to-classify examples.\n",
        "   - Focal loss helps in improving the performance of the model on minority classes while mitigating the effect of dominant classes.\n",
        "\n",
        "5. **Contrastive Loss**:\n",
        "   - Contrastive loss is used in siamese networks and metric learning tasks.\n",
        "   - It encourages similar samples to be closer together in the embedding space while pushing dissimilar samples apart.\n",
        "   - Contrastive loss is used for learning similarity metrics and embeddings.\n",
        "\n",
        "These are some of the commonly used loss functions in deep learning. The choice of a loss function depends on factors such as the nature of the task, the characteristics of the data, and the desired properties of the model's predictions. Experimentation with different loss functions is often necessary to find the one that best suits the specific requirements of a given task."
      ],
      "metadata": {
        "id": "0gXoZE34l9a4"
      }
    },
    {
      "cell_type": "markdown",
      "source": [
        "# OPTIMIZATION TECHNIQUES\n",
        "\n",
        "There are various optimization techniques used in deep learning to update the parameters (weights and biases) of neural networks during training in order to minimize the loss function. The choice of optimization technique depends on factors such as the network architecture, the size of the dataset, computational resources, and the specific characteristics of the problem being solved. Here are some common optimization techniques in deep learning and when they are best used:\n",
        "\n",
        "1. **Stochastic Gradient Descent (SGD)**:\n",
        "   - SGD is the simplest optimization algorithm used in deep learning.\n",
        "   - It updates the model parameters based on the gradient of the loss function computed on a mini-batch of training data.\n",
        "   - SGD is best used when working with large datasets or when computational resources are limited.\n",
        "   - However, it can be slow to converge and may suffer from oscillations, especially in the presence of noise.\n",
        "\n",
        "2. **Mini-Batch Gradient Descent**:\n",
        "   - Mini-batch gradient descent is a variation of SGD where the gradient is computed on a mini-batch of training data instead of the entire dataset.\n",
        "   - It strikes a balance between the computational efficiency of SGD and the stability of batch gradient descent.\n",
        "   - Mini-batch gradient descent is commonly used in practice for training deep neural networks.\n",
        "\n",
        "3. **Momentum**:\n",
        "   - Momentum is a technique that accelerates SGD by accumulating a momentum term that determines the direction of the update.\n",
        "   - It helps overcome the oscillations and slow convergence of SGD by adding inertia to the parameter updates.\n",
        "   - Momentum is particularly useful when dealing with high-dimensional optimization problems or noisy gradients.\n",
        "\n",
        "4. **Adaptive Learning Rate Methods**:\n",
        "   - Adaptive learning rate methods dynamically adjust the learning rate during training based on the past gradients.\n",
        "   - Examples include AdaGrad, RMSprop, and Adam.\n",
        "   - These methods are well-suited for non-convex optimization problems with sparse gradients or varying curvature.\n",
        "   - Adam, in particular, is widely used in practice due to its robustness and effectiveness across a wide range of tasks.\n",
        "\n",
        "5. **Learning Rate Scheduling**:\n",
        "   - Learning rate scheduling involves systematically reducing the learning rate over the course of training.\n",
        "   - It helps stabilize training and improve convergence by gradually reducing the step size as the optimization process progresses.\n",
        "   - Learning rate scheduling is commonly used in conjunction with other optimization techniques, such as SGD or Adam.\n",
        "\n",
        "6. **Nesterov Accelerated Gradient (NAG)**:\n",
        "   - Nesterov Accelerated Gradient is a variant of momentum optimization that improves convergence by using a \"lookahead\" update.\n",
        "   - It computes the gradient at a future position based on the current momentum direction before updating the parameters.\n",
        "   - NAG is effective in speeding up convergence and reducing oscillations in training.\n",
        "\n",
        "7. **Adaptive Moment Estimation (AdamW)**:\n",
        "   - AdamW is a variant of Adam that includes weight decay regularization to prevent overfitting.\n",
        "   - It decouples weight decay from the optimization variables, resulting in improved generalization performance.\n",
        "   - AdamW is particularly useful when training deep neural networks with large amounts of data and complex architectures.\n",
        "\n",
        "8. **Second-Order Optimization Methods**:\n",
        "   - Second-order optimization methods, such as Newton's method and conjugate gradient descent, use second-order information (e.g., Hessian matrix) to update the parameters.\n",
        "   - These methods can converge faster than first-order methods but are computationally expensive and impractical for large-scale deep learning tasks.\n",
        "\n",
        "The choice of optimization technique depends on factors such as the complexity of the optimization problem, the size of the dataset, the computational resources available, and the desired convergence properties. Experimentation and tuning are often necessary to find the optimal optimization strategy for a given deep learning task.\n"
      ],
      "metadata": {
        "id": "hKz6LzWqnZjS"
      }
    },
    {
      "cell_type": "markdown",
      "source": [
        "# BACK PROPERGATION\n",
        "\n",
        "Backpropagation, short for \"backward propagation of errors,\" is a fundamental algorithm used to train neural networks in deep learning. It's crucial for updating the parameters (weights and biases) of the network in a way that minimizes the difference between the model's predictions and the actual target values. Here's an in-depth discussion of backpropagation and its importance in deep learning:\n",
        "\n",
        "### 1. Forward Pass:\n",
        "   - During the forward pass, the input data is fed into the neural network, and the activations of each layer are computed sequentially.\n",
        "   - The activations are computed by applying the activation function to the weighted sum of inputs to each neuron.\n",
        "\n",
        "### 2. Loss Calculation:\n",
        "   - Once the forward pass is complete, the loss function is computed to measure the discrepancy between the model's predictions and the true target values.\n",
        "   - The choice of loss function depends on the task being performed (e.g., classification, regression).\n",
        "\n",
        "### 3. Backward Pass (Backpropagation):\n",
        "   - In the backward pass, the gradient of the loss function with respect to each parameter in the network is computed.\n",
        "   - Backpropagation involves propagating this gradient backward through the network, layer by layer, using the chain rule of calculus.\n",
        "\n",
        "### 4. Chain Rule:\n",
        "   - The chain rule allows us to decompose the gradient of the loss function with respect to the parameters of the network into a series of simpler gradients, which can be computed efficiently.\n",
        "   - It enables us to compute the gradient of the loss function with respect to the parameters of each layer in the network.\n",
        "\n",
        "### 5. Parameter Updates:\n",
        "   - Once the gradients have been computed for all parameters in the network, the parameters are updated using an optimization algorithm such as stochastic gradient descent (SGD) or Adam.\n",
        "   - The magnitude and direction of the updates are determined by the gradients and the learning rate.\n",
        "\n",
        "### Importance of Backpropagation in Deep Learning:\n",
        "\n",
        "1. **Efficient Training**:\n",
        "   - Backpropagation allows neural networks to efficiently learn from data by iteratively updating their parameters to minimize the loss function.\n",
        "   - Without backpropagation, training deep neural networks would be computationally infeasible due to the sheer number of parameters involved.\n",
        "\n",
        "2. **Automatic Differentiation**:\n",
        "   - Backpropagation automates the process of computing gradients, freeing practitioners from manually deriving and implementing complex derivatives.\n",
        "   - It enables the use of gradient-based optimization algorithms to train deep neural networks effectively.\n",
        "\n",
        "3. **Learning Complex Representations**:\n",
        "   - Backpropagation enables deep neural networks to learn complex hierarchical representations of the input data.\n",
        "   - By propagating gradients through multiple layers, neural networks can capture intricate patterns and relationships in the data, leading to improved performance on various tasks.\n",
        "\n",
        "4. **Scalability**:\n",
        "   - Backpropagation scales to large datasets and deep network architectures, making it suitable for training modern deep learning models on vast amounts of data.\n",
        "   - It allows researchers and practitioners to tackle a wide range of real-world problems across different domains.\n",
        "\n",
        "5. **Generalization**:\n",
        "   - Through backpropagation, neural networks learn to generalize from training data to unseen examples, leading to models that exhibit robust performance on new data.\n",
        "   - The iterative nature of backpropagation allows neural networks to iteratively refine their parameters, improving generalization performance over time.\n",
        "\n",
        "In summary, backpropagation is a fundamental algorithm in deep learning that enables efficient training of neural networks by computing gradients and updating parameters iteratively. Its importance lies in its ability to automate the process of gradient computation, allowing neural networks to learn complex representations from data and generalize well to unseen examples."
      ],
      "metadata": {
        "id": "mUOud6zIpDmG"
      }
    },
    {
      "cell_type": "markdown",
      "source": [
        "# REGULARIZATION TECHNIQUES\n",
        "Regularization techniques are crucial in deep learning for preventing overfitting, improving the generalization performance of models, and enhancing their robustness to unseen data. Overfitting occurs when a model learns to memorize the training data rather than capturing the underlying patterns in the data, leading to poor performance on new, unseen examples. Regularization techniques introduce constraints or penalties to the optimization process, encouraging the model to learn simpler and more generalizable representations. Here's an in-depth discussion of various regularization techniques used in deep learning:\n",
        "\n",
        "### 1. L1 and L2 Regularization (Weight Decay):\n",
        "   - **L1 regularization**: Adds a penalty term to the loss function proportional to the absolute values of the weights.\n",
        "     \\[ \\text{L1 Loss} = \\lambda \\sum_{i=1}^{n} |w_i| \\]\n",
        "   - **L2 regularization**: Adds a penalty term to the loss function proportional to the squared magnitudes of the weights.\n",
        "     \\[ \\text{L2 Loss} = \\lambda \\sum_{i=1}^{n} w_i^2 \\]\n",
        "   - \\( \\lambda \\) is the regularization strength hyperparameter.\n",
        "   - L1 regularization encourages sparsity in the weights, making some of them exactly zero, leading to feature selection.\n",
        "   - L2 regularization, also known as weight decay, penalizes large weights and helps prevent them from growing too large, effectively reducing model complexity.\n",
        "\n",
        "### 2. Dropout:\n",
        "   - Dropout is a regularization technique that randomly drops a fraction of neurons (along with their connections) from the network during training.\n",
        "   - It prevents co-adaptation of neurons and encourages the network to learn more robust and distributed representations.\n",
        "   - Dropout effectively simulates an ensemble of smaller networks, leading to improved generalization performance.\n",
        "   - At test time, dropout is usually turned off or scaled down to account for the dropped neurons during training.\n",
        "\n",
        "### 3. Batch Normalization:\n",
        "   - Batch normalization is a technique that normalizes the activations of each layer across mini-batches during training.\n",
        "   - It helps stabilize and speed up training by reducing internal covariate shift.\n",
        "   - Batch normalization acts as a regularizer by introducing noise to the activations, similar to dropout.\n",
        "   - It allows for the use of higher learning rates and helps prevent the vanishing or exploding gradient problem.\n",
        "\n",
        "### 4. Early Stopping:\n",
        "   - Early stopping is a simple regularization technique that stops training the model when the performance on a validation set starts to degrade.\n",
        "   - It prevents the model from overfitting by terminating training before it becomes too specialized to the training data.\n",
        "   - Early stopping requires monitoring the validation performance during training and saving the model parameters when the performance is optimal.\n",
        "\n",
        "### 5. Data Augmentation:\n",
        "   - Data augmentation is a technique used to increase the size and diversity of the training data by applying transformations such as rotation, translation, scaling, and flipping.\n",
        "   - It helps the model generalize better by exposing it to a wider range of variations and patterns in the data.\n",
        "   - Data augmentation is particularly useful when working with limited training data or when dealing with imbalanced datasets.\n",
        "\n",
        "### 6. DropConnect:\n",
        "   - DropConnect is an extension of dropout that randomly sets a fraction of weights to zero instead of neurons during training.\n",
        "   - It regularizes the model by preventing co-adaptation of weights, similar to dropout.\n",
        "   - DropConnect can be applied to both fully connected and convolutional layers, providing a flexible regularization mechanism.\n",
        "\n",
        "### 7. Mixup and CutMix:\n",
        "   - Mixup and CutMix are data augmentation techniques that combine pairs of training samples or patches of images, respectively, by mixing their features and labels.\n",
        "   - They encourage the model to learn more robust decision boundaries and reduce the risk of overfitting.\n",
        "   - Mixup and CutMix are particularly effective in image classification tasks and can improve the generalization performance of deep learning models.\n",
        "\n",
        "### 8. Weight Constraint:\n",
        "   - Weight constraint regularization imposes a constraint on the magnitude of the weights during optimization.\n",
        "   - It can be implemented by clipping the weights to a maximum value or by applying a penalty to the norm of the weights.\n",
        "   - Weight constraint regularization helps prevent the model from learning overly complex representations and encourages more stable optimization.\n",
        "\n",
        "### 9. Ensemble Methods:\n",
        "   - Ensemble methods combine predictions from multiple models to make a final prediction, reducing the risk of overfitting and improving generalization performance.\n",
        "   - Bagging (Bootstrap Aggregating), boosting, and stacking are common ensemble methods used in deep learning.\n",
        "   - Ensemble methods are effective in reducing model variance and achieving higher predictive accuracy on diverse datasets.\n",
        "\n",
        "Regularization techniques play a crucial role in training deep learning models by preventing overfitting, improving generalization performance, and enhancing model robustness. The choice of regularization technique depends on factors such as the complexity of the model, the size and diversity of the training data, and the specific characteristics of the problem being solved. Experimentation and tuning are often necessary to determine the optimal combination of regularization techniques for a given deep learning task."
      ],
      "metadata": {
        "id": "BhpGCZ4_qJ40"
      }
    },
    {
      "cell_type": "markdown",
      "source": [
        "# DEEP LEARNING ARCHITECTURES\n",
        "\n",
        "Deep learning architectures are specialized neural network structures designed to solve specific types of problems or handle particular types of data. Each architecture has its own characteristics, advantages, and best use cases. Here's a discussion of some common deep learning architectures and the situations they are best suited for:\n",
        "\n",
        "### 1. Convolutional Neural Networks (CNNs):\n",
        "   - **Best Suited For**: Image and video processing tasks such as image classification, object detection, and image segmentation.\n",
        "   - **Characteristics**:\n",
        "     - CNNs are designed to efficiently handle grid-structured data like images by leveraging shared weights and local connectivity.\n",
        "     - They consist of convolutional layers for feature extraction, pooling layers for spatial downsampling, and fully connected layers for classification.\n",
        "   - **Applications**:\n",
        "     - Image classification (e.g., classifying images into different categories).\n",
        "     - Object detection (e.g., detecting and localizing objects within images).\n",
        "     - Image segmentation (e.g., segmenting images into different regions or objects).\n",
        "\n",
        "### 2. Recurrent Neural Networks (RNNs):\n",
        "   - **Best Suited For**: Sequential data processing tasks such as time series analysis, natural language processing (NLP), and speech recognition.\n",
        "   - **Characteristics**:\n",
        "     - RNNs have recurrent connections that allow them to maintain a memory of past inputs, making them suitable for sequential data processing.\n",
        "     - They can handle inputs of variable length and are well-suited for tasks involving time-series data or sequences of symbols.\n",
        "   - **Applications**:\n",
        "     - Language modeling (e.g., predicting the next word in a sentence).\n",
        "     - Machine translation (e.g., translating text from one language to another).\n",
        "     - Speech recognition (e.g., transcribing spoken language into text).\n",
        "\n",
        "### 3. Long Short-Term Memory Networks (LSTMs) and Gated Recurrent Unit Networks (GRUs):\n",
        "   - **Best Suited For**: Sequential data processing tasks where capturing long-range dependencies is important, such as machine translation, speech recognition, and sentiment analysis.\n",
        "   - **Characteristics**:\n",
        "     - LSTMs and GRUs are variants of RNNs designed to address the vanishing gradient problem and capture long-range dependencies more effectively.\n",
        "     - They use gating mechanisms to control the flow of information through the network and maintain a more stable gradient flow during training.\n",
        "   - **Applications**:\n",
        "     - Sentiment analysis (e.g., classifying the sentiment of text documents).\n",
        "     - Time series forecasting (e.g., predicting future stock prices or weather patterns).\n",
        "     - Music generation (e.g., generating new pieces of music based on existing compositions).\n",
        "\n",
        "### 4. Autoencoders:\n",
        "   - **Best Suited For**: Unsupervised learning tasks such as data denoising, dimensionality reduction, and anomaly detection.\n",
        "   - **Characteristics**:\n",
        "     - Autoencoders are neural networks trained to reconstruct their input data at the output layer, typically through an encoder-decoder architecture.\n",
        "     - They learn a compact representation of the input data by compressing and then reconstructing it, which can be useful for feature extraction or data generation.\n",
        "   - **Applications**:\n",
        "     - Data compression (e.g., reducing the dimensionality of high-dimensional data).\n",
        "     - Anomaly detection (e.g., detecting outliers or anomalies in data streams).\n",
        "     - Image denoising (e.g., removing noise from images while preserving important features).\n",
        "\n",
        "### 5. Generative Adversarial Networks (GANs):\n",
        "   - **Best Suited For**: Generating realistic synthetic data, image-to-image translation, and unsupervised representation learning.\n",
        "   - **Characteristics**:\n",
        "     - GANs consist of two neural networks—a generator and a discriminator—trained simultaneously in a competitive setting.\n",
        "     - The generator learns to generate synthetic data samples that are indistinguishable from real data, while the discriminator learns to differentiate between real and fake samples.\n",
        "   - **Applications**:\n",
        "     - Image generation (e.g., generating realistic images of human faces or animals).\n",
        "     - Style transfer (e.g., converting images from one artistic style to another).\n",
        "     - Semi-supervised learning (e.g., using generated data to augment labeled datasets for improved model performance).\n",
        "\n",
        "### 6. Transformer Networks:\n",
        "   - **Best Suited For**: Natural language processing tasks such as machine translation, language modeling, and text classification.\n",
        "   - **Characteristics**:\n",
        "     - Transformer networks are based on self-attention mechanisms that enable them to capture global dependencies in sequential data more efficiently than recurrent architectures.\n",
        "     - They operate on entire sequences of data in parallel, making them highly scalable and suitable for long-range sequence modeling.\n",
        "   - **Applications**:\n",
        "     - Machine translation (e.g., translating text from one language to another).\n",
        "     - Language modeling (e.g., predicting the next word in a sequence of text).\n",
        "     - Document summarization (e.g., generating concise summaries of long documents).\n",
        "\n",
        "These are some of the most commonly used deep learning architectures and their respective best use cases. It's important to note that the choice of architecture depends on factors such as the nature of the data, the specific task being performed, and the computational resources available. Experimentation and domain expertise are often necessary to select the most appropriate architecture for a given problem."
      ],
      "metadata": {
        "id": "93f3qguduByU"
      }
    },
    {
      "cell_type": "markdown",
      "source": [
        "#DATA PREPROCESSING IN DEEP LEARNING\n",
        "\n",
        "Data preprocessing is a crucial step in deep learning that involves preparing and cleaning the raw input data to make it suitable for training deep neural networks. Effective data preprocessing can improve the performance and robustness of deep learning models by reducing noise, handling missing values, and normalizing the data. Here are some common data preprocessing techniques used in deep learning:\n",
        "\n",
        "### 1. Data Cleaning:\n",
        "   - **Handling Missing Values**: Missing values in the dataset can be filled using techniques such as mean, median, or mode imputation, or using more sophisticated methods like interpolation or predictive modeling.\n",
        "   - **Removing Outliers**: Outliers can be identified and removed using statistical methods such as Z-score, IQR (Interquartile Range), or by using domain knowledge.\n",
        "   - **Data Deduplication**: Removing duplicate records from the dataset to ensure that each data point is unique and contributes meaningfully to the training process.\n",
        "\n",
        "### 2. Data Normalization and Scaling:\n",
        "   - **Normalization**: Scaling the features to a similar range, typically between 0 and 1 or -1 and 1. Common normalization techniques include min-max scaling and z-score normalization.\n",
        "   - **Standardization**: Transforming the features to have a mean of 0 and a standard deviation of 1. This ensures that features are centered around zero and have similar scales.\n",
        "   - **Log Transformation**: Applying logarithmic transformation to features with skewed distributions to make them more normally distributed.\n",
        "\n",
        "### 3. Feature Engineering:\n",
        "   - **One-Hot Encoding**: Converting categorical variables into binary vectors, where each category is represented by a binary feature. This allows categorical variables to be included in the model.\n",
        "   - **Feature Scaling**: Scaling numerical features to ensure that they have similar ranges and magnitudes, preventing features with larger scales from dominating the training process.\n",
        "   - **Feature Selection**: Selecting a subset of relevant features that are most informative for the target variable, either through statistical tests, domain knowledge, or feature importance techniques.\n",
        "\n",
        "### 4. Data Augmentation:\n",
        "   - **Image Data Augmentation**: Generating new training samples by applying transformations such as rotation, translation, scaling, flipping, or adding noise to images. This helps in increasing the diversity and size of the training dataset, leading to improved generalization performance.\n",
        "   - **Text Data Augmentation**: Augmenting text data by adding synonyms, paraphrases, or perturbations to existing text samples. This can help in creating a more robust model for tasks such as text classification or sentiment analysis.\n",
        "\n",
        "### 5. Dimensionality Reduction:\n",
        "   - **Principal Component Analysis (PCA)**: A dimensionality reduction technique that identifies the most important features in the dataset and projects the data onto a lower-dimensional space while preserving the variance.\n",
        "   - **t-Distributed Stochastic Neighbor Embedding (t-SNE)**: A non-linear dimensionality reduction technique used for visualizing high-dimensional data in lower-dimensional space while preserving local similarities.\n",
        "\n",
        "### 6. Handling Imbalanced Data:\n",
        "   - **Oversampling**: Increasing the number of minority class samples by generating synthetic samples or duplicating existing ones.\n",
        "   - **Undersampling**: Reducing the number of majority class samples to balance the class distribution.\n",
        "   - **SMOTE (Synthetic Minority Over-sampling Technique)**: A method for synthesizing new minority class samples by interpolating between existing samples.\n",
        "\n",
        "### 7. Time Series Preprocessing:\n",
        "   - **Resampling**: Changing the frequency of the time series data by upsampling (increasing the frequency) or downsampling (decreasing the frequency).\n",
        "   - **Feature Engineering**: Creating lag features, rolling window statistics, or time-based features to capture temporal patterns and trends in the time series data.\n",
        "   - **Normalization**: Scaling the time series data to a similar range to ensure that features have consistent scales.\n",
        "\n",
        "### 8. Handling Text Data:\n",
        "   - **Tokenization**: Splitting text into individual words or tokens for further processing.\n",
        "   - **Text Cleaning**: Removing punctuation, special characters, stopwords, and converting text to lowercase.\n",
        "   - **Word Embeddings**: Representing words as dense vectors in a continuous vector space to capture semantic relationships between words.\n",
        "\n",
        "### 9. Handling Categorical Data:\n",
        "   - **Label Encoding**: Converting categorical variables into ordinal integers.\n",
        "   - **Embedding Layers**: Representing categorical variables as dense vectors in a continuous vector space, typically learned during the training process.\n",
        "\n",
        "### 10. Handling Time-Varying Data:\n",
        "   - **Temporal Aggregation**: Aggregating time-varying data over fixed time intervals (e.g., hourly, daily) to create features for prediction tasks.\n",
        "   - **Windowing**: Creating overlapping or non-overlapping windows of time series data for input into the model.\n",
        "\n",
        "### 11. Handling Spatial Data:\n",
        "   - **Resizing**: Resizing spatial data (e.g., images) to a fixed size to ensure consistency across samples.\n",
        "   - **Normalization**: Scaling pixel values to a similar range (e.g., [0, 1]) to improve convergence during training.\n",
        "\n",
        "These are some common data preprocessing techniques used in deep learning to clean, preprocess, and prepare the input data for training deep neural networks. The choice of preprocessing techniques depends on the nature of the data, the specific task being addressed, and the requirements of the deep learning model. Experimentation and domain expertise are often necessary to determine the most appropriate preprocessing pipeline for a given problem."
      ],
      "metadata": {
        "id": "gZjY4ZnovhKv"
      }
    },
    {
      "cell_type": "markdown",
      "source": [
        "# HYPERPARAMETERS IN DEEP LEARNING\n",
        "\n",
        "Hyperparameters are parameters that are set before the training process begins and govern the architecture and behavior of the neural network during training. Choosing appropriate hyperparameters is crucial for achieving optimal performance and generalization in deep learning models. Here are some common hyperparameters used in deep learning, along with a discussion of their significance:\n",
        "\n",
        "### 1. Learning Rate:\n",
        "   - **Definition**: The learning rate determines the step size of parameter updates during optimization. It controls how much the model parameters are adjusted with respect to the gradient of the loss function.\n",
        "   - **Significance**: The learning rate is one of the most important hyperparameters, as it affects the convergence speed and stability of the training process. A high learning rate may cause the optimization process to overshoot the minimum, while a low learning rate may lead to slow convergence or getting stuck in local minima.\n",
        "\n",
        "### 2. Batch Size:\n",
        "   - **Definition**: The batch size determines the number of samples processed by the model before updating the parameters. It affects the stability of the optimization process and the memory requirements during training.\n",
        "   - **Significance**: Choosing an appropriate batch size balances between computational efficiency and the quality of parameter updates. Larger batch sizes can lead to faster convergence but may require more memory and computational resources.\n",
        "\n",
        "### 3. Number of Epochs:\n",
        "   - **Definition**: An epoch refers to one complete pass through the entire training dataset during the training process. The number of epochs specifies how many times the entire dataset is processed by the model.\n",
        "   - **Significance**: The number of epochs determines the duration of training and affects the convergence and generalization performance of the model. Too few epochs may result in underfitting, while too many epochs may lead to overfitting.\n",
        "\n",
        "### 4. Network Architecture:\n",
        "   - **Definition**: The network architecture refers to the structure and topology of the neural network, including the number of layers, the types of layers (e.g., convolutional, recurrent), and the number of neurons in each layer.\n",
        "   - **Significance**: The network architecture determines the capacity and expressiveness of the model, influencing its ability to learn complex patterns and relationships in the data. Choosing an appropriate architecture depends on the specific task and the characteristics of the dataset.\n",
        "\n",
        "### 5. Activation Functions:\n",
        "   - **Definition**: Activation functions introduce non-linearity to the neural network by transforming the weighted sum of inputs at each neuron into an output signal.\n",
        "   - **Significance**: The choice of activation function affects the model's ability to approximate complex functions and learn non-linear relationships in the data. Common activation functions include ReLU (Rectified Linear Unit), sigmoid, tanh (hyperbolic tangent), and softmax.\n",
        "\n",
        "### 6. Regularization Parameters:\n",
        "   - **Definition**: Regularization parameters control the strength of regularization techniques such as L1 and L2 regularization, dropout, and batch normalization.\n",
        "   - **Significance**: Regularization parameters help prevent overfitting by penalizing overly complex models and promoting simpler, more generalizable solutions. Tuning regularization parameters is essential for achieving the right balance between bias and variance in the model.\n",
        "\n",
        "### 7. Optimizer Parameters:\n",
        "   - **Definition**: Optimizer parameters control the behavior of optimization algorithms such as SGD (Stochastic Gradient Descent), Adam, RMSprop, and AdaGrad.\n",
        "   - **Significance**: Optimizer parameters determine the update rules for model parameters during training, affecting the convergence speed, stability, and performance of the model. Tuning optimizer parameters can significantly impact the training process and the final model performance.\n",
        "\n",
        "### 8. Dropout Rate:\n",
        "   - **Definition**: Dropout is a regularization technique that randomly drops a fraction of neurons (along with their connections) from the network during training.\n",
        "   - **Significance**: The dropout rate determines the probability of dropping neurons during training. Higher dropout rates increase regularization and help prevent overfitting by reducing co-adaptation of neurons.\n",
        "\n",
        "### 9. Weight Initialization:\n",
        "   - **Definition**: Weight initialization specifies the initial values of the model parameters (weights and biases) before training begins.\n",
        "   - **Significance**: Proper weight initialization is critical for preventing vanishing or exploding gradients and ensuring stable training. Common weight initialization techniques include random initialization, Xavier initialization, and He initialization.\n",
        "\n",
        "### 10. Learning Rate Schedule:\n",
        "   - **Definition**: Learning rate schedule specifies how the learning rate changes over time during training. It can be constant, decayed, or adaptive based on various factors.\n",
        "   - **Significance**: Learning rate schedule can help improve the convergence and generalization performance of the model by adjusting the learning rate dynamically during training. Common learning rate schedules include step decay, exponential decay, and cyclical learning rates.\n",
        "\n",
        "Choosing appropriate hyperparameters requires a combination of domain knowledge, experimentation, and hyperparameter tuning techniques such as grid search, random search, or Bayesian optimization. Fine-tuning hyperparameters is an iterative process that involves training multiple models with different hyperparameter configurations and evaluating their performance on a validation set to identify the optimal settings for the specific task and dataset."
      ],
      "metadata": {
        "id": "CpdpfLevwBcN"
      }
    },
    {
      "cell_type": "markdown",
      "source": [
        "# AN INTRODUCTION TO KERAS API"
      ],
      "metadata": {
        "id": "hzoKWBMt1Lx0"
      }
    },
    {
      "cell_type": "code",
      "source": [
        " import numpy as np\n",
        " from random import randint\n",
        " from sklearn.utils import shuffle\n",
        " from sklearn.preprocessing import MinMaxScaler"
      ],
      "metadata": {
        "id": "gQ9McAn61QMm"
      },
      "execution_count": 2,
      "outputs": []
    },
    {
      "cell_type": "code",
      "source": [
        "train_labels = []\n",
        "train_samples = []"
      ],
      "metadata": {
        "id": "jHgM27U84Oeg"
      },
      "execution_count": 3,
      "outputs": []
    },
    {
      "cell_type": "code",
      "source": [
        "for i in range(50):\n",
        "  random_younger = randint(13,64)\n",
        "  train_samples.append(random_younger)\n",
        "  train_labels.append(1)\n",
        "\n",
        "  random_older = randint(65,100)\n",
        "  train_samples.append(random_older)\n",
        "  train_labels.append(0)\n",
        "\n",
        "for i in range(1000):\n",
        "  random_younger = randint(13,64)\n",
        "  train_samples.append(random_younger)\n",
        "  train_labels.append(1)\n",
        "\n",
        "  random_older = randint(65,100)\n",
        "  train_samples.append(random_older)\n",
        "  train_labels.append(0)"
      ],
      "metadata": {
        "id": "Xf0XWekw4ZBK"
      },
      "execution_count": 4,
      "outputs": []
    },
    {
      "cell_type": "code",
      "source": [
        "import pandas as pd\n",
        "\n",
        "data = pd.DataFrame({\"samples\":train_samples,\n",
        "                     \"labels\":train_labels})"
      ],
      "metadata": {
        "id": "3RYJ8mdy4shk"
      },
      "execution_count": 5,
      "outputs": []
    },
    {
      "cell_type": "code",
      "source": [
        "data.head()"
      ],
      "metadata": {
        "colab": {
          "base_uri": "https://localhost:8080/",
          "height": 206
        },
        "id": "nodFgps-6ZtV",
        "outputId": "313a0816-3613-4d8f-c0fa-14dfce63e9d2"
      },
      "execution_count": 6,
      "outputs": [
        {
          "output_type": "execute_result",
          "data": {
            "text/plain": [
              "   samples  labels\n",
              "0       52       1\n",
              "1       80       0\n",
              "2       37       1\n",
              "3       95       0\n",
              "4       14       1"
            ],
            "text/html": [
              "\n",
              "  <div id=\"df-1cdaea74-38ef-47e0-b581-7924301b3eb2\" class=\"colab-df-container\">\n",
              "    <div>\n",
              "<style scoped>\n",
              "    .dataframe tbody tr th:only-of-type {\n",
              "        vertical-align: middle;\n",
              "    }\n",
              "\n",
              "    .dataframe tbody tr th {\n",
              "        vertical-align: top;\n",
              "    }\n",
              "\n",
              "    .dataframe thead th {\n",
              "        text-align: right;\n",
              "    }\n",
              "</style>\n",
              "<table border=\"1\" class=\"dataframe\">\n",
              "  <thead>\n",
              "    <tr style=\"text-align: right;\">\n",
              "      <th></th>\n",
              "      <th>samples</th>\n",
              "      <th>labels</th>\n",
              "    </tr>\n",
              "  </thead>\n",
              "  <tbody>\n",
              "    <tr>\n",
              "      <th>0</th>\n",
              "      <td>52</td>\n",
              "      <td>1</td>\n",
              "    </tr>\n",
              "    <tr>\n",
              "      <th>1</th>\n",
              "      <td>80</td>\n",
              "      <td>0</td>\n",
              "    </tr>\n",
              "    <tr>\n",
              "      <th>2</th>\n",
              "      <td>37</td>\n",
              "      <td>1</td>\n",
              "    </tr>\n",
              "    <tr>\n",
              "      <th>3</th>\n",
              "      <td>95</td>\n",
              "      <td>0</td>\n",
              "    </tr>\n",
              "    <tr>\n",
              "      <th>4</th>\n",
              "      <td>14</td>\n",
              "      <td>1</td>\n",
              "    </tr>\n",
              "  </tbody>\n",
              "</table>\n",
              "</div>\n",
              "    <div class=\"colab-df-buttons\">\n",
              "\n",
              "  <div class=\"colab-df-container\">\n",
              "    <button class=\"colab-df-convert\" onclick=\"convertToInteractive('df-1cdaea74-38ef-47e0-b581-7924301b3eb2')\"\n",
              "            title=\"Convert this dataframe to an interactive table.\"\n",
              "            style=\"display:none;\">\n",
              "\n",
              "  <svg xmlns=\"http://www.w3.org/2000/svg\" height=\"24px\" viewBox=\"0 -960 960 960\">\n",
              "    <path d=\"M120-120v-720h720v720H120Zm60-500h600v-160H180v160Zm220 220h160v-160H400v160Zm0 220h160v-160H400v160ZM180-400h160v-160H180v160Zm440 0h160v-160H620v160ZM180-180h160v-160H180v160Zm440 0h160v-160H620v160Z\"/>\n",
              "  </svg>\n",
              "    </button>\n",
              "\n",
              "  <style>\n",
              "    .colab-df-container {\n",
              "      display:flex;\n",
              "      gap: 12px;\n",
              "    }\n",
              "\n",
              "    .colab-df-convert {\n",
              "      background-color: #E8F0FE;\n",
              "      border: none;\n",
              "      border-radius: 50%;\n",
              "      cursor: pointer;\n",
              "      display: none;\n",
              "      fill: #1967D2;\n",
              "      height: 32px;\n",
              "      padding: 0 0 0 0;\n",
              "      width: 32px;\n",
              "    }\n",
              "\n",
              "    .colab-df-convert:hover {\n",
              "      background-color: #E2EBFA;\n",
              "      box-shadow: 0px 1px 2px rgba(60, 64, 67, 0.3), 0px 1px 3px 1px rgba(60, 64, 67, 0.15);\n",
              "      fill: #174EA6;\n",
              "    }\n",
              "\n",
              "    .colab-df-buttons div {\n",
              "      margin-bottom: 4px;\n",
              "    }\n",
              "\n",
              "    [theme=dark] .colab-df-convert {\n",
              "      background-color: #3B4455;\n",
              "      fill: #D2E3FC;\n",
              "    }\n",
              "\n",
              "    [theme=dark] .colab-df-convert:hover {\n",
              "      background-color: #434B5C;\n",
              "      box-shadow: 0px 1px 3px 1px rgba(0, 0, 0, 0.15);\n",
              "      filter: drop-shadow(0px 1px 2px rgba(0, 0, 0, 0.3));\n",
              "      fill: #FFFFFF;\n",
              "    }\n",
              "  </style>\n",
              "\n",
              "    <script>\n",
              "      const buttonEl =\n",
              "        document.querySelector('#df-1cdaea74-38ef-47e0-b581-7924301b3eb2 button.colab-df-convert');\n",
              "      buttonEl.style.display =\n",
              "        google.colab.kernel.accessAllowed ? 'block' : 'none';\n",
              "\n",
              "      async function convertToInteractive(key) {\n",
              "        const element = document.querySelector('#df-1cdaea74-38ef-47e0-b581-7924301b3eb2');\n",
              "        const dataTable =\n",
              "          await google.colab.kernel.invokeFunction('convertToInteractive',\n",
              "                                                    [key], {});\n",
              "        if (!dataTable) return;\n",
              "\n",
              "        const docLinkHtml = 'Like what you see? Visit the ' +\n",
              "          '<a target=\"_blank\" href=https://colab.research.google.com/notebooks/data_table.ipynb>data table notebook</a>'\n",
              "          + ' to learn more about interactive tables.';\n",
              "        element.innerHTML = '';\n",
              "        dataTable['output_type'] = 'display_data';\n",
              "        await google.colab.output.renderOutput(dataTable, element);\n",
              "        const docLink = document.createElement('div');\n",
              "        docLink.innerHTML = docLinkHtml;\n",
              "        element.appendChild(docLink);\n",
              "      }\n",
              "    </script>\n",
              "  </div>\n",
              "\n",
              "\n",
              "<div id=\"df-ec5476d7-3885-446d-8828-8c6aa9c9051c\">\n",
              "  <button class=\"colab-df-quickchart\" onclick=\"quickchart('df-ec5476d7-3885-446d-8828-8c6aa9c9051c')\"\n",
              "            title=\"Suggest charts\"\n",
              "            style=\"display:none;\">\n",
              "\n",
              "<svg xmlns=\"http://www.w3.org/2000/svg\" height=\"24px\"viewBox=\"0 0 24 24\"\n",
              "     width=\"24px\">\n",
              "    <g>\n",
              "        <path d=\"M19 3H5c-1.1 0-2 .9-2 2v14c0 1.1.9 2 2 2h14c1.1 0 2-.9 2-2V5c0-1.1-.9-2-2-2zM9 17H7v-7h2v7zm4 0h-2V7h2v10zm4 0h-2v-4h2v4z\"/>\n",
              "    </g>\n",
              "</svg>\n",
              "  </button>\n",
              "\n",
              "<style>\n",
              "  .colab-df-quickchart {\n",
              "      --bg-color: #E8F0FE;\n",
              "      --fill-color: #1967D2;\n",
              "      --hover-bg-color: #E2EBFA;\n",
              "      --hover-fill-color: #174EA6;\n",
              "      --disabled-fill-color: #AAA;\n",
              "      --disabled-bg-color: #DDD;\n",
              "  }\n",
              "\n",
              "  [theme=dark] .colab-df-quickchart {\n",
              "      --bg-color: #3B4455;\n",
              "      --fill-color: #D2E3FC;\n",
              "      --hover-bg-color: #434B5C;\n",
              "      --hover-fill-color: #FFFFFF;\n",
              "      --disabled-bg-color: #3B4455;\n",
              "      --disabled-fill-color: #666;\n",
              "  }\n",
              "\n",
              "  .colab-df-quickchart {\n",
              "    background-color: var(--bg-color);\n",
              "    border: none;\n",
              "    border-radius: 50%;\n",
              "    cursor: pointer;\n",
              "    display: none;\n",
              "    fill: var(--fill-color);\n",
              "    height: 32px;\n",
              "    padding: 0;\n",
              "    width: 32px;\n",
              "  }\n",
              "\n",
              "  .colab-df-quickchart:hover {\n",
              "    background-color: var(--hover-bg-color);\n",
              "    box-shadow: 0 1px 2px rgba(60, 64, 67, 0.3), 0 1px 3px 1px rgba(60, 64, 67, 0.15);\n",
              "    fill: var(--button-hover-fill-color);\n",
              "  }\n",
              "\n",
              "  .colab-df-quickchart-complete:disabled,\n",
              "  .colab-df-quickchart-complete:disabled:hover {\n",
              "    background-color: var(--disabled-bg-color);\n",
              "    fill: var(--disabled-fill-color);\n",
              "    box-shadow: none;\n",
              "  }\n",
              "\n",
              "  .colab-df-spinner {\n",
              "    border: 2px solid var(--fill-color);\n",
              "    border-color: transparent;\n",
              "    border-bottom-color: var(--fill-color);\n",
              "    animation:\n",
              "      spin 1s steps(1) infinite;\n",
              "  }\n",
              "\n",
              "  @keyframes spin {\n",
              "    0% {\n",
              "      border-color: transparent;\n",
              "      border-bottom-color: var(--fill-color);\n",
              "      border-left-color: var(--fill-color);\n",
              "    }\n",
              "    20% {\n",
              "      border-color: transparent;\n",
              "      border-left-color: var(--fill-color);\n",
              "      border-top-color: var(--fill-color);\n",
              "    }\n",
              "    30% {\n",
              "      border-color: transparent;\n",
              "      border-left-color: var(--fill-color);\n",
              "      border-top-color: var(--fill-color);\n",
              "      border-right-color: var(--fill-color);\n",
              "    }\n",
              "    40% {\n",
              "      border-color: transparent;\n",
              "      border-right-color: var(--fill-color);\n",
              "      border-top-color: var(--fill-color);\n",
              "    }\n",
              "    60% {\n",
              "      border-color: transparent;\n",
              "      border-right-color: var(--fill-color);\n",
              "    }\n",
              "    80% {\n",
              "      border-color: transparent;\n",
              "      border-right-color: var(--fill-color);\n",
              "      border-bottom-color: var(--fill-color);\n",
              "    }\n",
              "    90% {\n",
              "      border-color: transparent;\n",
              "      border-bottom-color: var(--fill-color);\n",
              "    }\n",
              "  }\n",
              "</style>\n",
              "\n",
              "  <script>\n",
              "    async function quickchart(key) {\n",
              "      const quickchartButtonEl =\n",
              "        document.querySelector('#' + key + ' button');\n",
              "      quickchartButtonEl.disabled = true;  // To prevent multiple clicks.\n",
              "      quickchartButtonEl.classList.add('colab-df-spinner');\n",
              "      try {\n",
              "        const charts = await google.colab.kernel.invokeFunction(\n",
              "            'suggestCharts', [key], {});\n",
              "      } catch (error) {\n",
              "        console.error('Error during call to suggestCharts:', error);\n",
              "      }\n",
              "      quickchartButtonEl.classList.remove('colab-df-spinner');\n",
              "      quickchartButtonEl.classList.add('colab-df-quickchart-complete');\n",
              "    }\n",
              "    (() => {\n",
              "      let quickchartButtonEl =\n",
              "        document.querySelector('#df-ec5476d7-3885-446d-8828-8c6aa9c9051c button');\n",
              "      quickchartButtonEl.style.display =\n",
              "        google.colab.kernel.accessAllowed ? 'block' : 'none';\n",
              "    })();\n",
              "  </script>\n",
              "</div>\n",
              "\n",
              "    </div>\n",
              "  </div>\n"
            ],
            "application/vnd.google.colaboratory.intrinsic+json": {
              "type": "dataframe",
              "variable_name": "data",
              "summary": "{\n  \"name\": \"data\",\n  \"rows\": 2100,\n  \"fields\": [\n    {\n      \"column\": \"samples\",\n      \"properties\": {\n        \"dtype\": \"number\",\n        \"std\": 25,\n        \"min\": 13,\n        \"max\": 100,\n        \"samples\": [\n          58,\n          52,\n          72\n        ],\n        \"num_unique_values\": 88,\n        \"semantic_type\": \"\",\n        \"description\": \"\"\n      }\n    },\n    {\n      \"column\": \"labels\",\n      \"properties\": {\n        \"dtype\": \"number\",\n        \"std\": 0,\n        \"min\": 0,\n        \"max\": 1,\n        \"samples\": [\n          0,\n          1\n        ],\n        \"num_unique_values\": 2,\n        \"semantic_type\": \"\",\n        \"description\": \"\"\n      }\n    }\n  ]\n}"
            }
          },
          "metadata": {},
          "execution_count": 6
        }
      ]
    },
    {
      "cell_type": "code",
      "source": [
        "train_labels = np.array(train_labels)\n",
        "train_samples = np.array(train_samples)\n",
        "\n",
        "train_labels, train_samples = shuffle(train_labels, train_samples)"
      ],
      "metadata": {
        "id": "_gPNBmBA6f9x"
      },
      "execution_count": 7,
      "outputs": []
    },
    {
      "cell_type": "code",
      "source": [
        "scaler = MinMaxScaler(feature_range =(0,1))\n",
        "\n",
        "scaled_train_samples = scaler.fit_transform(train_samples.reshape(-1,1))"
      ],
      "metadata": {
        "id": "UwaEfnd36_U9"
      },
      "execution_count": 8,
      "outputs": []
    },
    {
      "cell_type": "code",
      "source": [
        "for i in scaled_train_samples[0:10]:\n",
        "  print(i)"
      ],
      "metadata": {
        "colab": {
          "base_uri": "https://localhost:8080/"
        },
        "id": "Wygdcdpu8yQt",
        "outputId": "8456febe-e644-43ca-f2f9-3aa561a4cf13"
      },
      "execution_count": 9,
      "outputs": [
        {
          "output_type": "stream",
          "name": "stdout",
          "text": [
            "[0.27586207]\n",
            "[0.91954023]\n",
            "[0.96551724]\n",
            "[0.]\n",
            "[0.32183908]\n",
            "[0.59770115]\n",
            "[0.79310345]\n",
            "[0.04597701]\n",
            "[0.3908046]\n",
            "[0.98850575]\n"
          ]
        }
      ]
    },
    {
      "cell_type": "markdown",
      "source": [
        "## Simple tf.keras sequntial model with data"
      ],
      "metadata": {
        "id": "2JWgvpAZ9IcS"
      }
    },
    {
      "cell_type": "code",
      "source": [
        "# using a sequential model using the Keras API\n",
        "\n",
        "import tensorflow as tf\n",
        "from tensorflow import keras\n",
        "from tensorflow.keras.models import Sequential\n",
        "from tensorflow.keras.layers import Dense, Activation\n",
        "from tensorflow.keras.optimizers import Adam\n",
        "from tensorflow.keras.metrics import categorical_crossentropy\n",
        "\n"
      ],
      "metadata": {
        "id": "P5uNThy888oj"
      },
      "execution_count": 10,
      "outputs": []
    },
    {
      "cell_type": "code",
      "source": [
        "model = Sequential([\n",
        "    Dense(units=16, input_shape=(1,), activation='relu'),\n",
        "    Dense(units=32, activation='relu'),\n",
        "    Dense(units=2, activation='softmax')\n",
        "])"
      ],
      "metadata": {
        "id": "mjUNZpqR-T_h"
      },
      "execution_count": 11,
      "outputs": []
    },
    {
      "cell_type": "code",
      "source": [
        "model.summary()"
      ],
      "metadata": {
        "colab": {
          "base_uri": "https://localhost:8080/"
        },
        "id": "2_FCR3Bb_FmA",
        "outputId": "c4c43cd8-8336-4b92-be2a-209835659f02"
      },
      "execution_count": 12,
      "outputs": [
        {
          "output_type": "stream",
          "name": "stdout",
          "text": [
            "Model: \"sequential\"\n",
            "_________________________________________________________________\n",
            " Layer (type)                Output Shape              Param #   \n",
            "=================================================================\n",
            " dense (Dense)               (None, 16)                32        \n",
            "                                                                 \n",
            " dense_1 (Dense)             (None, 32)                544       \n",
            "                                                                 \n",
            " dense_2 (Dense)             (None, 2)                 66        \n",
            "                                                                 \n",
            "=================================================================\n",
            "Total params: 642 (2.51 KB)\n",
            "Trainable params: 642 (2.51 KB)\n",
            "Non-trainable params: 0 (0.00 Byte)\n",
            "_________________________________________________________________\n"
          ]
        }
      ]
    },
    {
      "cell_type": "code",
      "source": [
        "model.compile(optimizer=Adam(learning_rate=0.0001),\n",
        "              loss=\"sparse_categorical_crossentropy\",\n",
        "              metrics=['accuracy'])"
      ],
      "metadata": {
        "id": "5P4XofVk_PhN"
      },
      "execution_count": 13,
      "outputs": []
    },
    {
      "cell_type": "code",
      "source": [
        "model.fit(x=scaled_train_samples, y= train_labels, validation_split=0.1,batch_size=10, epochs=30, shuffle=True, verbose=2)"
      ],
      "metadata": {
        "colab": {
          "base_uri": "https://localhost:8080/"
        },
        "id": "66_BdgKrBCY9",
        "outputId": "8a2755a3-d5cb-41be-de57-83dd1760b432"
      },
      "execution_count": 14,
      "outputs": [
        {
          "output_type": "stream",
          "name": "stdout",
          "text": [
            "Epoch 1/30\n",
            "189/189 - 1s - loss: 0.6628 - accuracy: 0.5730 - val_loss: 0.6506 - val_accuracy: 0.6000 - 1s/epoch - 7ms/step\n",
            "Epoch 2/30\n",
            "189/189 - 0s - loss: 0.6282 - accuracy: 0.6772 - val_loss: 0.6198 - val_accuracy: 0.6810 - 323ms/epoch - 2ms/step\n",
            "Epoch 3/30\n",
            "189/189 - 0s - loss: 0.5952 - accuracy: 0.7206 - val_loss: 0.5884 - val_accuracy: 0.7524 - 313ms/epoch - 2ms/step\n",
            "Epoch 4/30\n",
            "189/189 - 0s - loss: 0.5607 - accuracy: 0.7540 - val_loss: 0.5544 - val_accuracy: 0.7619 - 315ms/epoch - 2ms/step\n",
            "Epoch 5/30\n",
            "189/189 - 0s - loss: 0.5234 - accuracy: 0.8011 - val_loss: 0.5175 - val_accuracy: 0.7857 - 285ms/epoch - 2ms/step\n",
            "Epoch 6/30\n",
            "189/189 - 0s - loss: 0.4840 - accuracy: 0.8312 - val_loss: 0.4784 - val_accuracy: 0.8190 - 315ms/epoch - 2ms/step\n",
            "Epoch 7/30\n",
            "189/189 - 0s - loss: 0.4439 - accuracy: 0.8561 - val_loss: 0.4390 - val_accuracy: 0.8524 - 318ms/epoch - 2ms/step\n",
            "Epoch 8/30\n",
            "189/189 - 0s - loss: 0.4045 - accuracy: 0.8810 - val_loss: 0.4008 - val_accuracy: 0.8762 - 307ms/epoch - 2ms/step\n",
            "Epoch 9/30\n",
            "189/189 - 0s - loss: 0.3670 - accuracy: 0.9032 - val_loss: 0.3645 - val_accuracy: 0.8857 - 328ms/epoch - 2ms/step\n",
            "Epoch 10/30\n",
            "189/189 - 0s - loss: 0.3319 - accuracy: 0.9138 - val_loss: 0.3318 - val_accuracy: 0.8905 - 290ms/epoch - 2ms/step\n",
            "Epoch 11/30\n",
            "189/189 - 0s - loss: 0.3003 - accuracy: 0.9270 - val_loss: 0.3017 - val_accuracy: 0.9143 - 275ms/epoch - 1ms/step\n",
            "Epoch 12/30\n",
            "189/189 - 0s - loss: 0.2723 - accuracy: 0.9365 - val_loss: 0.2759 - val_accuracy: 0.9333 - 276ms/epoch - 1ms/step\n",
            "Epoch 13/30\n",
            "189/189 - 0s - loss: 0.2480 - accuracy: 0.9460 - val_loss: 0.2537 - val_accuracy: 0.9333 - 283ms/epoch - 1ms/step\n",
            "Epoch 14/30\n",
            "189/189 - 0s - loss: 0.2270 - accuracy: 0.9503 - val_loss: 0.2337 - val_accuracy: 0.9476 - 309ms/epoch - 2ms/step\n",
            "Epoch 15/30\n",
            "189/189 - 0s - loss: 0.2083 - accuracy: 0.9587 - val_loss: 0.2153 - val_accuracy: 0.9571 - 321ms/epoch - 2ms/step\n",
            "Epoch 16/30\n",
            "189/189 - 0s - loss: 0.1906 - accuracy: 0.9593 - val_loss: 0.1989 - val_accuracy: 0.9571 - 279ms/epoch - 1ms/step\n",
            "Epoch 17/30\n",
            "189/189 - 0s - loss: 0.1758 - accuracy: 0.9693 - val_loss: 0.1851 - val_accuracy: 0.9571 - 331ms/epoch - 2ms/step\n",
            "Epoch 18/30\n",
            "189/189 - 0s - loss: 0.1632 - accuracy: 0.9709 - val_loss: 0.1732 - val_accuracy: 0.9619 - 295ms/epoch - 2ms/step\n",
            "Epoch 19/30\n",
            "189/189 - 0s - loss: 0.1522 - accuracy: 0.9788 - val_loss: 0.1633 - val_accuracy: 0.9619 - 283ms/epoch - 1ms/step\n",
            "Epoch 20/30\n",
            "189/189 - 0s - loss: 0.1426 - accuracy: 0.9757 - val_loss: 0.1535 - val_accuracy: 0.9619 - 316ms/epoch - 2ms/step\n",
            "Epoch 21/30\n",
            "189/189 - 0s - loss: 0.1343 - accuracy: 0.9788 - val_loss: 0.1455 - val_accuracy: 0.9619 - 317ms/epoch - 2ms/step\n",
            "Epoch 22/30\n",
            "189/189 - 0s - loss: 0.1269 - accuracy: 0.9799 - val_loss: 0.1386 - val_accuracy: 0.9619 - 308ms/epoch - 2ms/step\n",
            "Epoch 23/30\n",
            "189/189 - 0s - loss: 0.1205 - accuracy: 0.9836 - val_loss: 0.1317 - val_accuracy: 0.9714 - 409ms/epoch - 2ms/step\n",
            "Epoch 24/30\n",
            "189/189 - 0s - loss: 0.1143 - accuracy: 0.9847 - val_loss: 0.1270 - val_accuracy: 0.9619 - 457ms/epoch - 2ms/step\n",
            "Epoch 25/30\n",
            "189/189 - 0s - loss: 0.1094 - accuracy: 0.9831 - val_loss: 0.1213 - val_accuracy: 0.9714 - 406ms/epoch - 2ms/step\n",
            "Epoch 26/30\n",
            "189/189 - 0s - loss: 0.1042 - accuracy: 0.9836 - val_loss: 0.1160 - val_accuracy: 0.9714 - 464ms/epoch - 2ms/step\n",
            "Epoch 27/30\n",
            "189/189 - 0s - loss: 0.1002 - accuracy: 0.9873 - val_loss: 0.1120 - val_accuracy: 0.9714 - 404ms/epoch - 2ms/step\n",
            "Epoch 28/30\n",
            "189/189 - 0s - loss: 0.0961 - accuracy: 0.9862 - val_loss: 0.1079 - val_accuracy: 0.9714 - 356ms/epoch - 2ms/step\n",
            "Epoch 29/30\n",
            "189/189 - 0s - loss: 0.0925 - accuracy: 0.9862 - val_loss: 0.1040 - val_accuracy: 0.9952 - 321ms/epoch - 2ms/step\n",
            "Epoch 30/30\n",
            "189/189 - 0s - loss: 0.0890 - accuracy: 0.9905 - val_loss: 0.1010 - val_accuracy: 0.9714 - 282ms/epoch - 1ms/step\n"
          ]
        },
        {
          "output_type": "execute_result",
          "data": {
            "text/plain": [
              "<keras.src.callbacks.History at 0x7ad0e44c0970>"
            ]
          },
          "metadata": {},
          "execution_count": 14
        }
      ]
    },
    {
      "cell_type": "code",
      "source": [
        "# generating a validation set on the fly with keras\n",
        "\n",
        "# include the 'validation_split=0.2' parameter"
      ],
      "metadata": {
        "id": "cmzshECOCdfm"
      },
      "execution_count": 15,
      "outputs": []
    },
    {
      "cell_type": "code",
      "source": [
        "# test samples\n",
        "test_samples = []\n",
        "\n",
        "test_labels = []\n",
        "\n",
        "\n",
        "for i in range(200):\n",
        "  random_younger = randint(13,64)\n",
        "  test_samples.append(random_younger)\n",
        "  test_labels.append(1)\n",
        "\n",
        "  random_older = randint(65,100)\n",
        "  test_samples.append(random_older)\n",
        "  test_labels.append(0)\n"
      ],
      "metadata": {
        "id": "_e8EBXe8DchW"
      },
      "execution_count": 16,
      "outputs": []
    },
    {
      "cell_type": "code",
      "source": [
        "test_labels = np.array(train_labels)\n",
        "test_samples = np.array(train_samples)\n",
        "\n",
        "test_labels, test_samples = shuffle(test_labels, test_samples)"
      ],
      "metadata": {
        "id": "MK2YNg2ch0iO"
      },
      "execution_count": 17,
      "outputs": []
    },
    {
      "cell_type": "code",
      "source": [
        "scaler = MinMaxScaler(feature_range =(0,1))\n",
        "\n",
        "scaled_test_samples = scaler.fit_transform(test_samples.reshape(-1,1))"
      ],
      "metadata": {
        "id": "OKmgWJoviCb3"
      },
      "execution_count": 18,
      "outputs": []
    },
    {
      "cell_type": "code",
      "source": [
        "# predicting on the test labels\n",
        "predictions = model.predict(x=scaled_test_samples, batch_size=10, verbose=0)"
      ],
      "metadata": {
        "id": "7kem5DpCiLd0"
      },
      "execution_count": 19,
      "outputs": []
    },
    {
      "cell_type": "code",
      "source": [
        "for i in predictions[0:10]:\n",
        "  print(i)"
      ],
      "metadata": {
        "colab": {
          "base_uri": "https://localhost:8080/"
        },
        "id": "Jm0gSSDdik1U",
        "outputId": "433b26f6-f3b6-4558-e02e-c5905d3f322f"
      },
      "execution_count": 20,
      "outputs": [
        {
          "output_type": "stream",
          "name": "stdout",
          "text": [
            "[0.9983779  0.00162221]\n",
            "[0.18888628 0.8111137 ]\n",
            "[0.9777508  0.02224925]\n",
            "[0.40961614 0.5903838 ]\n",
            "[0.9883182  0.01168181]\n",
            "[9.991651e-01 8.348269e-04]\n",
            "[0.00899162 0.9910083 ]\n",
            "[0.18888628 0.8111137 ]\n",
            "[0.01133345 0.98866653]\n",
            "[0.9777508  0.02224925]\n"
          ]
        }
      ]
    },
    {
      "cell_type": "code",
      "source": [
        "round_pred = np.around(predictions, 3)"
      ],
      "metadata": {
        "id": "CGWPLFnjkiJv"
      },
      "execution_count": 21,
      "outputs": []
    },
    {
      "cell_type": "code",
      "source": [
        "round_pred[0:10]"
      ],
      "metadata": {
        "colab": {
          "base_uri": "https://localhost:8080/"
        },
        "id": "xpT1v1uVoP7M",
        "outputId": "1ab844f0-78c7-495e-b22a-7f4a60538608"
      },
      "execution_count": 22,
      "outputs": [
        {
          "output_type": "execute_result",
          "data": {
            "text/plain": [
              "array([[0.998, 0.002],\n",
              "       [0.189, 0.811],\n",
              "       [0.978, 0.022],\n",
              "       [0.41 , 0.59 ],\n",
              "       [0.988, 0.012],\n",
              "       [0.999, 0.001],\n",
              "       [0.009, 0.991],\n",
              "       [0.189, 0.811],\n",
              "       [0.011, 0.989],\n",
              "       [0.978, 0.022]], dtype=float32)"
            ]
          },
          "metadata": {},
          "execution_count": 22
        }
      ]
    },
    {
      "cell_type": "code",
      "source": [
        "pred = np.argmax(predictions, axis=-1)"
      ],
      "metadata": {
        "id": "M845MzHZuNM0"
      },
      "execution_count": 23,
      "outputs": []
    },
    {
      "cell_type": "code",
      "source": [
        "pred[0:5]"
      ],
      "metadata": {
        "colab": {
          "base_uri": "https://localhost:8080/"
        },
        "id": "lgU0veoSwaVQ",
        "outputId": "038af8be-ac49-4f50-ee41-346fc8ee4d6d"
      },
      "execution_count": 24,
      "outputs": [
        {
          "output_type": "execute_result",
          "data": {
            "text/plain": [
              "array([0, 1, 0, 1, 0])"
            ]
          },
          "metadata": {},
          "execution_count": 24
        }
      ]
    },
    {
      "cell_type": "code",
      "source": [
        "# prompt: produce a confusion matrix for test_labels and pred using seaborn to plot them and scikit learn confusion matrix\n",
        "\n",
        "import seaborn as sns\n",
        "import matplotlib.pyplot as plt\n",
        "from sklearn.metrics import confusion_matrix\n",
        "\n",
        "cm = confusion_matrix(test_labels, pred)\n",
        "\n",
        "ax = plt.subplot()\n",
        "sns.heatmap(cm, annot=True, ax=ax)  # Annotate cells with values\n",
        "\n",
        "ax.set_xlabel('Predicted labels')\n",
        "ax.set_ylabel('True labels')\n",
        "ax.set_title('Confusion Matrix')\n",
        "ax.xaxis.set_ticklabels(['YES', 'NO'])\n",
        "ax.yaxis.set_ticklabels(['YES', 'NO'])\n",
        "\n",
        "plt.show()\n"
      ],
      "metadata": {
        "colab": {
          "base_uri": "https://localhost:8080/",
          "height": 472
        },
        "id": "WC4lm7ufwdKA",
        "outputId": "7c821424-2fc4-47e1-eb87-d6bd842e43eb"
      },
      "execution_count": 25,
      "outputs": [
        {
          "output_type": "display_data",
          "data": {
            "text/plain": [
              "<Figure size 640x480 with 2 Axes>"
            ],
            "image/png": "[encoded data removed]"
          },
          "metadata": {}
        }
      ]
    },
    {
      "cell_type": "code",
      "source": [
        "# saving and loading a sequantial model"
      ],
      "metadata": {
        "id": "WvvyZEMLxuAh"
      },
      "execution_count": null,
      "outputs": []
    }
  ]
}